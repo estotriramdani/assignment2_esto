{
  "nbformat": 4,
  "nbformat_minor": 0,
  "metadata": {
    "colab": {
      "provenance": []
    },
    "kernelspec": {
      "name": "python3",
      "display_name": "Python 3"
    },
    "language_info": {
      "name": "python"
    }
  },
  "cells": [
    {
      "cell_type": "markdown",
      "source": [
        "# **No 1**:\n",
        "1. Buatlah notebook file dengan format <nama_assignment2.ipynb> yang berisi sebuah function untuk :\n",
        "  * Mereturn angka disuatu posisi berdasarkan bilangan pertama dari sebuah daftar angka-angka.\n",
        "  * Urutan posisi dimulai dari bilangan kedua.\n",
        "  * Jika bilangan pertama melebihi jumlah banyaknya daftar angka-angka, maka return **-1**.\n",
        "  * Input : daftar angka\n",
        "\n",
        "| No | Input | Output |\n",
        "| - | - | - |\n",
        "| 1 | (3, 10, 20, 30, 40) | 40 |\n",
        "| 2 | (0, -10, 10)| -10 |\n",
        "| 3 | (1, 2, 300, 10) | 300 |\n",
        "| 4 | (100, 200, 300, -400) | -1 |\n",
        "| 5 | (4, 200, 300, -400) | -1 |\n"
      ],
      "metadata": {
        "id": "TKpxcRRudjBM"
      }
    },
    {
      "cell_type": "code",
      "execution_count": 6,
      "metadata": {
        "colab": {
          "base_uri": "https://localhost:8080/"
        },
        "id": "PEBr7r7FBTqs",
        "outputId": "7b126845-6f20-4b9a-b982-742ecff56a5b"
      },
      "outputs": [
        {
          "output_type": "stream",
          "name": "stdout",
          "text": [
            "40\n",
            "-10\n",
            "300\n",
            "-1\n",
            "-1\n"
          ]
        }
      ],
      "source": [
        "def daftar(*daftar_angka):\n",
        "  angka_pertama = daftar_angka[0]\n",
        "  sliced = daftar_angka[1:]\n",
        "  if (angka_pertama > len(sliced)):\n",
        "    return -1\n",
        "  return sliced[angka_pertama]\n",
        "\n",
        "satu = daftar(3, 10, 20, 30, 40)\n",
        "dua = daftar(0, -10, 10)\n",
        "tiga = daftar(1, 2, 300, 10)\n",
        "empat = daftar(100, 200, 300, -400)\n",
        "lima = daftar(4, 200, 300, -400)\n",
        "print(satu)\n",
        "print(dua)\n",
        "print(tiga)\n",
        "print(empat)\n",
        "print(lima)\n"
      ]
    },
    {
      "cell_type": "markdown",
      "source": [
        "## **No 2**\n",
        "\n",
        "2. Buat module Python bernama `rumus.py` yang berisi dua fungsi: satu untuk menghitung luas segitiga dan satu lagi untuk menghitung keliling segitiga. Gunakan module tersebut di notebook utama (pada soal no 1).\n",
        "\n",
        "Submit dilakukan dalam bentuk mengirimkan link github repository (public) ke google form."
      ],
      "metadata": {
        "id": "K7a23ODpVL_U"
      }
    },
    {
      "cell_type": "code",
      "source": [
        "import rumus\n",
        "\n",
        "sisi = 4\n",
        "\n",
        "keliling = rumus.keliling_segitiga(sisi)\n",
        "luas = rumus.luas_segitiga(sisi)\n",
        "\n",
        "print(f'Keliling \\t: {keliling} cm')\n",
        "print(f'Luas \\t\\t: {luas} cm')"
      ],
      "metadata": {
        "colab": {
          "base_uri": "https://localhost:8080/"
        },
        "id": "WhKgcKE6VY-v",
        "outputId": "72cf60ca-d187-4496-eb27-fc14fb156908"
      },
      "execution_count": 10,
      "outputs": [
        {
          "output_type": "stream",
          "name": "stdout",
          "text": [
            "Keliling \t: 12 cm\n",
            "Luas \t\t: 6.928203230275509 cm\n"
          ]
        }
      ]
    }
  ]
}